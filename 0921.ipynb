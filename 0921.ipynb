{
 "cells": [
  {
   "cell_type": "code",
   "execution_count": 3,
   "metadata": {
    "scrolled": true
   },
   "outputs": [
    {
     "name": "stdout",
     "output_type": "stream",
     "text": [
      "[[0.99330715]\n",
      " [0.99999386]\n",
      " [0.99999999]]\n"
     ]
    }
   ],
   "source": [
    "#题目一\n",
    "from numpy import *\n",
    "import numpy as np\n",
    "import math\n",
    "\n",
    "def g(z):\n",
    "    return 1/(1+exp(-z))\n",
    "\n",
    "def sz(x,w,b):\n",
    "    return np.dot(w,x)+b\n",
    "\n",
    "x=np.array([[1],[0],[1]])#定义一个3*1的矩阵\n",
    "#x=mat([[1],[0],[1]])#定义一个3*1的矩阵\n",
    "w=np.array([[1,2,3],[4,5,6],[7,8,9]])#定义一个3*3的矩阵\n",
    "b=np.array([[1],[2],[3]])#定义一个3*1的矩阵\n",
    "\n",
    "#print(sz(x,w,b))\n",
    "print(g(sz(x,w,b)))"
   ]
  },
  {
   "cell_type": "code",
   "execution_count": null,
   "metadata": {},
   "outputs": [],
   "source": [
    "#题目二\n",
    "import numpy as np\n",
    "import pandas as pd\n",
    "\n",
    "data=pd.read_csv(open(r'D:\\jupyter\\人工神经网络\\BeijingPM20100101_20151231.csv',encoding='utf-8'))\n",
    "#print(data)\n",
    "#data001=data.dropna(axis=0,how='any')\n",
    "#data001.head()\n",
    "\n",
    "def location_time_per(data):\n",
    "    return loction_list\n",
    "\n",
    "def avg_pm_per_month(data):\n",
    "    return avg_list"
   ]
  }
 ],
 "metadata": {
  "kernelspec": {
   "display_name": "Python 3",
   "language": "python",
   "name": "python3"
  },
  "language_info": {
   "codemirror_mode": {
    "name": "ipython",
    "version": 3
   },
   "file_extension": ".py",
   "mimetype": "text/x-python",
   "name": "python",
   "nbconvert_exporter": "python",
   "pygments_lexer": "ipython3",
   "version": "3.7.6"
  }
 },
 "nbformat": 4,
 "nbformat_minor": 4
}
